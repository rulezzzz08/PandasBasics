{
 "cells": [
  {
   "cell_type": "markdown",
   "metadata": {},
   "source": [
    "# Pandas basics"
   ]
  },
  {
   "cell_type": "markdown",
   "metadata": {},
   "source": [
    "Pandas is an open source, BSD-licensed library providing high-performance, easy-to-use data structures and data analysis tools for the Python programming language.\n",
    "\n",
    "This is a review of Pandas' Basics with an emphasis on using groupby."
   ]
  },
  {
   "cell_type": "markdown",
   "metadata": {},
   "source": [
    "## Imports "
   ]
  },
  {
   "cell_type": "code",
   "execution_count": 1,
   "metadata": {},
   "outputs": [],
   "source": [
    "# python standard library\n",
    "import os\n",
    "\n",
    "# from pypi\n",
    "import pandas\n",
    "import numpy\n",
    "import matplotlib.pyplot as pyplot\n",
    "import seaborn\n",
    "\n",
    "from tabulate import tabulate #to install: conda install -c conda-forge tabulate"
   ]
  },
  {
   "cell_type": "markdown",
   "metadata": {},
   "source": [
    "## Confirmed\n",
    "These are values that we know to be correct so you can use them to check the outcomes."
   ]
  },
  {
   "cell_type": "code",
   "execution_count": 2,
   "metadata": {},
   "outputs": [],
   "source": [
    "class Confirmed:\n",
    "    \"\"\"This holds confirmed values\"\"\"\n",
    "    september_max_revenue = 7982852.199999956\n",
    "    september_max_category_id = 20\n",
    "    number_of_items_whose_price_didnt_change = 5926\n",
    "    variance_per_day = 117167.70229885059"
   ]
  },
  {
   "cell_type": "markdown",
   "metadata": {},
   "source": [
    "## The Data"
   ]
  },
  {
   "cell_type": "markdown",
   "metadata": {},
   "source": [
    "We have four data-sets to load, all of them in csv format, although the file with all the transactions is compressed."
   ]
  },
  {
   "cell_type": "code",
   "execution_count": 3,
   "metadata": {},
   "outputs": [],
   "source": [
    "transactions    = pandas.read_csv('sales_train.csv.gz')\n",
    "items           = pandas.read_csv('items.csv')\n",
    "item_categories = pandas.read_csv('item_categories.csv')\n",
    "shops           = pandas.read_csv('shops.csv')"
   ]
  },
  {
   "cell_type": "markdown",
   "metadata": {},
   "source": [
    "The frames dictionary is just a convenience thing to make printing the descriptive tables below a little easier."
   ]
  },
  {
   "cell_type": "code",
   "execution_count": 4,
   "metadata": {},
   "outputs": [],
   "source": [
    "frames = dict(transactions=transactions,\n",
    "    items=items,\n",
    "    item_categories=item_categories,\n",
    "    shops=shops)"
   ]
  },
  {
   "cell_type": "markdown",
   "metadata": {},
   "source": [
    "## Data Description"
   ]
  },
  {
   "cell_type": "markdown",
   "metadata": {},
   "source": [
    "### File descriptions "
   ]
  },
  {
   "cell_type": "markdown",
   "metadata": {},
   "source": [
    "File Name\t            Description\n",
    "sales_train.csv\t        the training set. Daily historical data from January 2013 to October 2015.\n",
    "test.csv\t            the test set. You need to forecast the sales for these shops and products for November 2015.\n",
    "sample_submission.csv\ta sample submission file in the correct format.\n",
    "items.csv\t            supplemental information about the items/products.\n",
    "item_categories.csv\t    supplemental information about the items categories.\n",
    "shops.csv\t            supplemental information about the shops."
   ]
  },
  {
   "cell_type": "markdown",
   "metadata": {},
   "source": [
    "### Data Fields"
   ]
  },
  {
   "cell_type": "markdown",
   "metadata": {},
   "source": [
    "Data Fields\n",
    "Column              Description\n",
    "ID                  an Id that represents a (Shop, Item) tuple within the test set\n",
    "shop_id             unique identifier of a shop\n",
    "item_id             unique identifier of a product\n",
    "item_category_id    unique identifier of item category\n",
    "item_cnt_day        number of products sold. You are predicting a monthly amount of this measure\n",
    "item_price          current price of an item\n",
    "date                date in format dd/mm/yyyy\n",
    "date_block_num\t    a consecutive month number, used for convenience. January 2013 is 0, February 2013 is 1,…, October 2015 is 33\n",
    "item_name\t        name of item\n",
    "shop_name\t        name of shop\n",
    "item_category_name\tname of item category"
   ]
  },
  {
   "cell_type": "markdown",
   "metadata": {},
   "source": [
    "## A Warm Up"
   ]
  },
  {
   "cell_type": "markdown",
   "metadata": {},
   "source": [
    "Let's start with a simple task.\n",
    "\n",
    "Print the shape of the loaded dataframes and use the df.head function to print several rows. Examine the features you are given."
   ]
  },
  {
   "cell_type": "code",
   "execution_count": 5,
   "metadata": {},
   "outputs": [
    {
     "name": "stdout",
     "output_type": "stream",
     "text": [
      "| DataFrame | Rows| Columns|\n",
      "|-+-+-|\n",
      "|transactions| 2935849|6|\n",
      "|items| 22170|3|\n",
      "|item_categories| 84|2|\n",
      "|shops| 60|2|\n"
     ]
    }
   ],
   "source": [
    "print(\"| DataFrame | Rows| Columns|\")\n",
    "print(\"|-+-+-|\")\n",
    "for name, frame in frames.items():\n",
    "    rows, columns = frame.shape\n",
    "    print(\"|{}| {}|{}|\".format(name, rows, columns))"
   ]
  },
  {
   "cell_type": "code",
   "execution_count": 6,
   "metadata": {},
   "outputs": [
    {
     "name": "stdout",
     "output_type": "stream",
     "text": [
      "** transactions\n",
      "| date       |   date_block_num |   shop_id |   item_id |   item_price |   item_cnt_day |\n",
      "|------------+------------------+-----------+-----------+--------------+----------------|\n",
      "| 02.01.2013 |                0 |        59 |     22154 |       999    |              1 |\n",
      "| 03.01.2013 |                0 |        25 |      2552 |       899    |              1 |\n",
      "| 05.01.2013 |                0 |        25 |      2552 |       899    |             -1 |\n",
      "| 06.01.2013 |                0 |        25 |      2554 |      1709.05 |              1 |\n",
      "| 15.01.2013 |                0 |        25 |      2555 |      1099    |              1 |\n",
      "** items\n",
      "| item_name                                                            |   item_id |   item_category_id |\n",
      "|----------------------------------------------------------------------+-----------+--------------------|\n",
      "| ! ВО ВЛАСТИ НАВАЖДЕНИЯ (ПЛАСТ.)         D                            |         0 |                 40 |\n",
      "| !ABBYY FineReader 12 Professional Edition Full [PC, Цифровая версия] |         1 |                 76 |\n",
      "| ***В ЛУЧАХ СЛАВЫ   (UNV)                    D                        |         2 |                 40 |\n",
      "| ***ГОЛУБАЯ ВОЛНА  (Univ)                      D                      |         3 |                 40 |\n",
      "| ***КОРОБКА (СТЕКЛО)                       D                          |         4 |                 40 |\n",
      "** item_categories\n",
      "| item_category_name      |   item_category_id |\n",
      "|-------------------------+--------------------|\n",
      "| PC - Гарнитуры/Наушники |                  0 |\n",
      "| Аксессуары - PS2        |                  1 |\n",
      "| Аксессуары - PS3        |                  2 |\n",
      "| Аксессуары - PS4        |                  3 |\n",
      "| Аксессуары - PSP        |                  4 |\n",
      "** shops\n",
      "| shop_name                      |   shop_id |\n",
      "|--------------------------------+-----------|\n",
      "| !Якутск Орджоникидзе, 56 фран  |         0 |\n",
      "| !Якутск ТЦ \"Центральный\" фран  |         1 |\n",
      "| Адыгея ТЦ \"Мега\"               |         2 |\n",
      "| Балашиха ТРК \"Октябрь-Киномир\" |         3 |\n",
      "| Волжский ТЦ \"Волга Молл\"       |         4 |\n"
     ]
    }
   ],
   "source": [
    "for name, frame in frames.items():\n",
    "    print(\"** {}\".format(name))\n",
    "    head = frame.head()\n",
    "    print(tabulate(head, headers=\"keys\", tablefmt=\"orgtbl\", showindex=False))"
   ]
  },
  {
   "cell_type": "markdown",
   "metadata": {},
   "source": [
    "## Questions"
   ]
  },
  {
   "cell_type": "markdown",
   "metadata": {},
   "source": [
    "### Question 1: What was the maximum total revenue among all the shops in September, 2014?"
   ]
  },
  {
   "cell_type": "markdown",
   "metadata": {},
   "source": [
    "From here on out revenue refers to total sales minus value of goods returned.\n",
    "\n",
    "Sometimes items are returned, find such examples in the dataset.\n",
    "It is handy to split date field into [day, month, year] components and use ` df.year = 14` and `df.month = 9` in order to select target subset of dates.\n",
    "You may work with date feature as with srings, or you may first convert it to pd.datetime type with pd.datetime function, but do not forget to set correct format argument."
   ]
  },
  {
   "cell_type": "code",
   "execution_count": 7,
   "metadata": {},
   "outputs": [],
   "source": [
    "transactions[\"item_revenue\"] = transactions.item_price * transactions.item_cnt_day\n",
    "\n"
   ]
  },
  {
   "cell_type": "code",
   "execution_count": 8,
   "metadata": {},
   "outputs": [
    {
     "name": "stdout",
     "output_type": "stream",
     "text": [
      "|   day |   month |   year |\n",
      "|-------+---------+--------|\n",
      "|    02 |      01 |   2013 |\n",
      "|    03 |      01 |   2013 |\n",
      "|    05 |      01 |   2013 |\n",
      "|    06 |      01 |   2013 |\n",
      "|    15 |      01 |   2013 |\n"
     ]
    }
   ],
   "source": [
    "class Dates:\n",
    "    date_expression = r'(?P<day>\\d{2})\\.(?P<month>\\d{2})\\.(?P<year>\\d{4})'\n",
    "    september = '09'\n",
    "    december = '12'\n",
    "    summer = ['06', '07', '08']\n",
    "    \n",
    "dates = transactions.date.str.extract(Dates.date_expression)\n",
    "\n",
    "print(tabulate(dates.head(), headers=\"keys\", showindex='never', tablefmt='orgtbl'))"
   ]
  },
  {
   "cell_type": "code",
   "execution_count": 9,
   "metadata": {},
   "outputs": [],
   "source": [
    "transactions = pandas.concat((transactions, dates), axis='columns')"
   ]
  },
  {
   "cell_type": "code",
   "execution_count": 10,
   "metadata": {},
   "outputs": [
    {
     "name": "stdout",
     "output_type": "stream",
     "text": [
      "| date       |   date_block_num |   shop_id |   item_id |   item_price |   item_cnt_day |   item_revenue |   day |   month |   year |\n",
      "|------------+------------------+-----------+-----------+--------------+----------------+----------------+-------+---------+--------|\n",
      "| 02.01.2013 |                0 |        59 |     22154 |       999    |              1 |         999    |    02 |      01 |   2013 |\n",
      "| 03.01.2013 |                0 |        25 |      2552 |       899    |              1 |         899    |    03 |      01 |   2013 |\n",
      "| 05.01.2013 |                0 |        25 |      2552 |       899    |             -1 |        -899    |    05 |      01 |   2013 |\n",
      "| 06.01.2013 |                0 |        25 |      2554 |      1709.05 |              1 |        1709.05 |    06 |      01 |   2013 |\n",
      "| 15.01.2013 |                0 |        25 |      2555 |      1099    |              1 |        1099    |    15 |      01 |   2013 |\n"
     ]
    }
   ],
   "source": [
    "print(tabulate(transactions.head(), headers=\"keys\", tablefmt=\"orgtbl\", showindex=\"never\"))"
   ]
  },
  {
   "cell_type": "code",
   "execution_count": 11,
   "metadata": {},
   "outputs": [],
   "source": [
    "assert not transactions.date.hasnans"
   ]
  },
  {
   "cell_type": "code",
   "execution_count": 12,
   "metadata": {},
   "outputs": [],
   "source": [
    "twenty_fourteen = transactions[transactions.year.isin([\"2014\"])]\n",
    "september = twenty_fourteen[twenty_fourteen.month.isin([Dates.september])]"
   ]
  },
  {
   "cell_type": "code",
   "execution_count": 13,
   "metadata": {},
   "outputs": [
    {
     "name": "stdout",
     "output_type": "stream",
     "text": [
      "|         | date       |   date_block_num |   shop_id |   item_id |   item_price |   item_cnt_day |   item_revenue |   day |   month |   year |\n",
      "|---------+------------+------------------+-----------+-----------+--------------+----------------+----------------+-------+---------+--------|\n",
      "| 1953691 | 24.09.2014 |               20 |         5 |      1039 |          899 |              1 |            899 |    24 |      09 |   2014 |\n",
      "| 1953692 | 27.09.2014 |               20 |         5 |      1015 |          449 |              1 |            449 |    27 |      09 |   2014 |\n",
      "| 1953693 | 07.09.2014 |               20 |         5 |      1329 |          399 |              1 |            399 |    07 |      09 |   2014 |\n",
      "| 1953694 | 27.09.2014 |               20 |         5 |       984 |          399 |              1 |            399 |    27 |      09 |   2014 |\n",
      "| 1953695 | 08.09.2014 |               20 |         5 |       984 |          399 |              1 |            399 |    08 |      09 |   2014 |\n"
     ]
    }
   ],
   "source": [
    "print(tabulate(september.head(), headers=\"keys\", tablefmt=\"orgtbl\"))"
   ]
  },
  {
   "cell_type": "code",
   "execution_count": 14,
   "metadata": {},
   "outputs": [],
   "source": [
    "assert all(twenty_fourteen.year == \"2014\")\n",
    "assert all(september.month == \"09\")"
   ]
  },
  {
   "cell_type": "code",
   "execution_count": 15,
   "metadata": {},
   "outputs": [
    {
     "name": "stdout",
     "output_type": "stream",
     "text": [
      "2.49 %\n"
     ]
    }
   ],
   "source": [
    "rows, columns = september.shape\n",
    "print(\"{:.2f} %\".format(100 * rows/transactions.shape[0]))"
   ]
  },
  {
   "cell_type": "code",
   "execution_count": 16,
   "metadata": {},
   "outputs": [],
   "source": [
    "grouped = september.groupby([\"shop_id\"])\n",
    "summed = grouped.item_revenue.agg(numpy.sum)"
   ]
  },
  {
   "cell_type": "code",
   "execution_count": 17,
   "metadata": {},
   "outputs": [
    {
     "name": "stdout",
     "output_type": "stream",
     "text": [
      "shop_id\n",
      "2    1473540.00\n",
      "3    1228425.00\n",
      "4    1211556.00\n",
      "5    1350828.02\n",
      "6    3480397.00\n",
      "Name: item_revenue, dtype: float64\n"
     ]
    }
   ],
   "source": [
    "print(summed.head())"
   ]
  },
  {
   "cell_type": "code",
   "execution_count": 18,
   "metadata": {},
   "outputs": [
    {
     "name": "stdout",
     "output_type": "stream",
     "text": [
      "Highest Revenue Earned by a shop in September of 2014: $ 7,982,852.20\n"
     ]
    }
   ],
   "source": [
    "max_revenue = summed.loc[summed.idxmax()]\n",
    "print(\"Highest Revenue Earned by a shop in September of 2014: $ {:,.2f}\".format(max_revenue))"
   ]
  },
  {
   "cell_type": "markdown",
   "metadata": {},
   "source": [
    "## Question 2: What item category generated the highest revenue in the Summer of 2014?"
   ]
  },
  {
   "cell_type": "markdown",
   "metadata": {},
   "source": [
    "Submit the id of the category found.\n",
    "Here we call \"summer\" the period from June to August."
   ]
  },
  {
   "cell_type": "markdown",
   "metadata": {},
   "source": [
    "### Hints:\n",
    "\n",
    "Note, that for an object x of type pd.Series: x.argmax() returns index of the maximum element. pd.Series can have non-trivial ndex (not [1,2,3,…]).\n",
    "\n",
    "### Get the Summer months\n",
    "To filter what we want I'll use the isin method to remove every row that has a value that isn't in Dates.summer."
   ]
  },
  {
   "cell_type": "code",
   "execution_count": 19,
   "metadata": {},
   "outputs": [],
   "source": [
    "summer = twenty_fourteen[twenty_fourteen.month.isin(Dates.summer)]"
   ]
  },
  {
   "cell_type": "code",
   "execution_count": 20,
   "metadata": {
    "scrolled": true
   },
   "outputs": [
    {
     "name": "stdout",
     "output_type": "stream",
     "text": [
      "|         | date       |   date_block_num |   shop_id |   item_id |   item_price |   item_cnt_day |   item_revenue |   day |   month |   year |\n",
      "|---------+------------+------------------+-----------+-----------+--------------+----------------+----------------+-------+---------+--------|\n",
      "| 1705909 | 15.06.2014 |               17 |        26 |      9532 |       399    |              1 |         399    |    15 |      06 |   2014 |\n",
      "| 1705910 | 10.06.2014 |               17 |        26 |      9507 |       149    |              1 |         149    |    10 |      06 |   2014 |\n",
      "| 1705911 | 13.06.2014 |               17 |        26 |      9509 |       246.32 |              1 |         246.32 |    13 |      06 |   2014 |\n",
      "| 1705912 | 03.06.2014 |               17 |        26 |      9532 |       399    |              1 |         399    |    03 |      06 |   2014 |\n",
      "| 1705913 | 08.06.2014 |               17 |        26 |      9532 |       399    |              1 |         399    |    08 |      06 |   2014 |\n"
     ]
    }
   ],
   "source": [
    "print(tabulate(summer.head(), headers=\"keys\", tablefmt='orgtbl'))\n",
    "for month in summer.month.unique():\n",
    "    assert month in Dates.summer"
   ]
  },
  {
   "cell_type": "markdown",
   "metadata": {},
   "source": [
    "### Map in the Category IDs\n",
    "\n",
    "If you look at items.item_id you can see that the id's are really just the numerical index to the items.item_category_id series. I was originally add the category ids for all the transactions but it takes a long time so I'm just adding it to this group."
   ]
  },
  {
   "cell_type": "code",
   "execution_count": 21,
   "metadata": {},
   "outputs": [],
   "source": [
    "assert all(items.item_id == range(len(items)))"
   ]
  },
  {
   "cell_type": "markdown",
   "metadata": {},
   "source": [
    "So we can map them back into our summer transactions."
   ]
  },
  {
   "cell_type": "code",
   "execution_count": 22,
   "metadata": {},
   "outputs": [],
   "source": [
    "pandas.options.mode.chained_assignment = None\n",
    "summer[\"item_category_id\"] = summer.item_id.apply(lambda item: items.loc[item, 'item_category_id'])"
   ]
  },
  {
   "cell_type": "code",
   "execution_count": 23,
   "metadata": {},
   "outputs": [
    {
     "name": "stdout",
     "output_type": "stream",
     "text": [
      "|         | date       |   date_block_num |   shop_id |   item_id |   item_price |   item_cnt_day |   item_revenue |   day |   month |   year |   item_category_id |\n",
      "|---------+------------+------------------+-----------+-----------+--------------+----------------+----------------+-------+---------+--------+--------------------|\n",
      "| 1705909 | 15.06.2014 |               17 |        26 |      9532 |       399    |              1 |         399    |    15 |      06 |   2014 |                 30 |\n",
      "| 1705910 | 10.06.2014 |               17 |        26 |      9507 |       149    |              1 |         149    |    10 |      06 |   2014 |                 40 |\n",
      "| 1705911 | 13.06.2014 |               17 |        26 |      9509 |       246.32 |              1 |         246.32 |    13 |      06 |   2014 |                 37 |\n",
      "| 1705912 | 03.06.2014 |               17 |        26 |      9532 |       399    |              1 |         399    |    03 |      06 |   2014 |                 30 |\n",
      "| 1705913 | 08.06.2014 |               17 |        26 |      9532 |       399    |              1 |         399    |    08 |      06 |   2014 |                 30 |\n"
     ]
    }
   ],
   "source": [
    "print(tabulate(summer.head(), headers='keys', tablefmt=\"orgtbl\"))"
   ]
  },
  {
   "cell_type": "code",
   "execution_count": 24,
   "metadata": {},
   "outputs": [
    {
     "name": "stdout",
     "output_type": "stream",
     "text": [
      "item_category_id\n",
      "2    2755520.0\n",
      "3    6854669.8\n",
      "4      38833.2\n",
      "5     418233.1\n",
      "6    3360382.5\n",
      "Name: item_revenue, dtype: float64\n"
     ]
    }
   ],
   "source": [
    "categories = summer.groupby([\"item_category_id\"])\n",
    "categories_summed = categories.item_revenue.agg(numpy.sum)\n",
    "print(categories_summed.head())"
   ]
  },
  {
   "cell_type": "code",
   "execution_count": 25,
   "metadata": {},
   "outputs": [],
   "source": [
    "category_id_with_max_revenue = categories_summed.idxmax()"
   ]
  },
  {
   "cell_type": "code",
   "execution_count": 26,
   "metadata": {},
   "outputs": [
    {
     "name": "stdout",
     "output_type": "stream",
     "text": [
      "Category Id with the Maximum Value: 20\n"
     ]
    }
   ],
   "source": [
    "print(\"Category Id with the Maximum Value: {}\".format(category_id_with_max_revenue))"
   ]
  },
  {
   "cell_type": "markdown",
   "metadata": {},
   "source": [
    "## Question 3: How many items have the same price throughout the data set?\n",
    "How many items are there, such that their price stays constant (to the best of our knowledge) during the whole period of time?\n",
    "\n",
    "Let's assume, that the items are returned for the same price as they had been sold."
   ]
  },
  {
   "cell_type": "markdown",
   "metadata": {},
   "source": [
    "### Isolate the ID and Price"
   ]
  },
  {
   "cell_type": "code",
   "execution_count": 27,
   "metadata": {},
   "outputs": [],
   "source": [
    "id_price = transactions.loc[:, [\"item_id\", \"item_price\"]]\n",
    "id_price[\"item_price\"] = id_price.item_price.abs()\n",
    "group = id_price.groupby(\"item_id\")"
   ]
  },
  {
   "cell_type": "code",
   "execution_count": 28,
   "metadata": {},
   "outputs": [
    {
     "name": "stdout",
     "output_type": "stream",
     "text": [
      "5926\n"
     ]
    }
   ],
   "source": [
    "counts = group.item_price.nunique()\n",
    "\n",
    "constant_prices = len([index for index in counts.index if counts.loc[index] == 1])\n",
    "assert constant_prices == Confirmed.number_of_items_whose_price_didnt_change\n",
    "print(constant_prices)"
   ]
  },
  {
   "cell_type": "code",
   "execution_count": 29,
   "metadata": {},
   "outputs": [
    {
     "name": "stdout",
     "output_type": "stream",
     "text": [
      "Number of items whose price didn't change: 5926\n"
     ]
    }
   ],
   "source": [
    "print(\"Number of items whose price didn't change: {}\".format(constant_prices))"
   ]
  },
  {
   "cell_type": "markdown",
   "metadata": {},
   "source": [
    "## Question 4: What was the variance of the number of items sold per day for shop 25 in December, 2014?\n",
    "Remember, the data can sometimes be noisy. Do not count the items, that were sold but returned back later.\n",
    "\n",
    "Fill total_num_items_sold and days arrays, and plot the sequence with the code below.\n",
    "Then compute variance. Remember, there can be differences in how you normalize variance (biased or unbiased estimate, see this Stack Overflow post). Compute the unbiased estimate (use the right value for ddof argument in pd.var or np.var)."
   ]
  },
  {
   "cell_type": "code",
   "execution_count": 30,
   "metadata": {},
   "outputs": [],
   "source": [
    "shop_id = 25"
   ]
  },
  {
   "cell_type": "markdown",
   "metadata": {},
   "source": [
    "### Filter to the Shop and Dates"
   ]
  },
  {
   "cell_type": "code",
   "execution_count": 31,
   "metadata": {},
   "outputs": [
    {
     "name": "stdout",
     "output_type": "stream",
     "text": [
      "|         | date       |   date_block_num |   shop_id |   item_id |   item_price |   item_cnt_day |   item_revenue |   day |   month |   year |\n",
      "|---------+------------+------------------+-----------+-----------+--------------+----------------+----------------+-------+---------+--------|\n",
      "| 2295837 | 14.12.2014 |               23 |        25 |     21752 |          399 |              1 |            399 |    14 |      12 |   2014 |\n",
      "| 2295838 | 13.12.2014 |               23 |        25 |     21752 |          399 |              3 |           1197 |    13 |      12 |   2014 |\n",
      "| 2295839 | 26.12.2014 |               23 |        25 |     21733 |          149 |              1 |            149 |    26 |      12 |   2014 |\n",
      "| 2295840 | 31.12.2014 |               23 |        25 |     21732 |          149 |              1 |            149 |    31 |      12 |   2014 |\n",
      "| 2295841 | 30.12.2014 |               23 |        25 |     21726 |          149 |              1 |            149 |    30 |      12 |   2014 |\n"
     ]
    },
    {
     "name": "stderr",
     "output_type": "stream",
     "text": [
      "C:\\Users\\AlduninDA\\AppData\\Local\\Continuum\\anaconda3\\lib\\site-packages\\ipykernel_launcher.py:2: UserWarning: Boolean Series key will be reindexed to match DataFrame index.\n",
      "  \n"
     ]
    }
   ],
   "source": [
    "twenty_fives = twenty_fourteen[(transactions.shop_id==shop_id)\n",
    "    & (transactions.month==Dates.december)]\n",
    "print(tabulate(twenty_fives.head(), headers='keys', tablefmt='orgtbl'))\n",
    "assert(all(twenty_fives.shop_id == shop_id))"
   ]
  },
  {
   "cell_type": "markdown",
   "metadata": {},
   "source": [
    "### Group by date"
   ]
  },
  {
   "cell_type": "code",
   "execution_count": 32,
   "metadata": {},
   "outputs": [
    {
     "name": "stdout",
     "output_type": "stream",
     "text": [
      "date\n",
      "01.12.2014    153.0\n",
      "02.12.2014    169.0\n",
      "03.12.2014    195.0\n",
      "04.12.2014    164.0\n",
      "05.12.2014    300.0\n",
      "Name: item_cnt_day, dtype: float64\n"
     ]
    }
   ],
   "source": [
    "shop_grouped = twenty_fives.groupby(\"date\")\n",
    "count_per_day = shop_grouped.item_cnt_day.sum()\n",
    "print(count_per_day.head())"
   ]
  },
  {
   "cell_type": "markdown",
   "metadata": {},
   "source": [
    "### Add a date-time to make it sortable for print"
   ]
  },
  {
   "cell_type": "code",
   "execution_count": 33,
   "metadata": {},
   "outputs": [
    {
     "name": "stdout",
     "output_type": "stream",
     "text": [
      "date\n",
      "2014-12-01    153.0\n",
      "2014-12-02    169.0\n",
      "2014-12-03    195.0\n",
      "2014-12-04    164.0\n",
      "2014-12-05    300.0\n",
      "Name: item_cnt_day, dtype: float64\n"
     ]
    }
   ],
   "source": [
    "pandas.options.mode.chained_assignment = None\n",
    "count_per_day.index = pandas.to_datetime(count_per_day.index, format=\"%d.%m.%Y\")\n",
    "print(count_per_day.head())"
   ]
  },
  {
   "cell_type": "code",
   "execution_count": 34,
   "metadata": {},
   "outputs": [
    {
     "data": {
      "image/png": "[encoded data removed]",
      "text/plain": [
       "<Figure size 1440x1080 with 1 Axes>"
      ]
     },
     "metadata": {
      "needs_background": "light"
     },
     "output_type": "display_data"
    }
   ],
   "source": [
    "figure = pyplot.figure(figsize=(20, 15))\n",
    "axe = figure.gca()\n",
    "pyplot.plot(count_per_day.index, count_per_day.values)\n",
    "pyplot.ylabel('Num items')\n",
    "pyplot.xlabel('Day')\n",
    "axe.set_xlim([count_per_day.index[0], count_per_day.index[-1]])\n",
    "title = pyplot.title(\"Daily revenue for shop_id = 25\")"
   ]
  },
  {
   "cell_type": "code",
   "execution_count": 35,
   "metadata": {},
   "outputs": [
    {
     "name": "stdout",
     "output_type": "stream",
     "text": [
      "Variance for items sold per day: 117167.70229885059\n"
     ]
    }
   ],
   "source": [
    "# pandas uses 1/n-1 by default, numpy uses 1/n\n",
    "total_num_items_sold_var = count_per_day.var()\n",
    "print(\"Variance for items sold per day: {}\".format(total_num_items_sold_var))"
   ]
  },
  {
   "cell_type": "markdown",
   "metadata": {},
   "source": [
    "## Exercise 1: What was the minimum total revenue among all the shops in the Winter of 2014?"
   ]
  },
  {
   "cell_type": "code",
   "execution_count": 11,
   "metadata": {},
   "outputs": [],
   "source": [
    "winter_months = pandas.DataFrame({'year': ['2013', '2014', '2014'], 'month': ['12', '01', '02']})"
   ]
  },
  {
   "cell_type": "code",
   "execution_count": 12,
   "metadata": {},
   "outputs": [],
   "source": [
    "transactions_winter = transactions.merge(winter_months)"
   ]
  },
  {
   "cell_type": "code",
   "execution_count": 13,
   "metadata": {},
   "outputs": [],
   "source": [
    "winter_rev = transactions_winter.groupby('shop_id')['item_revenue'].sum()"
   ]
  },
  {
   "cell_type": "code",
   "execution_count": 14,
   "metadata": {},
   "outputs": [
    {
     "name": "stdout",
     "output_type": "stream",
     "text": [
      "Minimum Total Revenue earned by a shop in the Winter of 2014: $ 1,072,501.00\n"
     ]
    }
   ],
   "source": [
    "print(\"Minimum Total Revenue earned by a shop in the Winter of 2014: $ {:,.2f}\".format(winter_rev.min()))"
   ]
  },
  {
   "cell_type": "markdown",
   "metadata": {},
   "source": [
    "## Exercise 2: What was the most popular item in the shop from Exercise 1 throughout the data set?"
   ]
  },
  {
   "cell_type": "code",
   "execution_count": 15,
   "metadata": {},
   "outputs": [
    {
     "data": {
      "text/plain": [
       "shop_id\n",
       "13    1072501.00\n",
       "55    1285967.93\n",
       "49    2002627.00\n",
       "10    2375660.00\n",
       "3     3265371.00\n",
       "Name: item_revenue, dtype: float64"
      ]
     },
     "execution_count": 15,
     "metadata": {},
     "output_type": "execute_result"
    }
   ],
   "source": [
    "winter_rev.sort_values().head(5)"
   ]
  },
  {
   "cell_type": "code",
   "execution_count": 16,
   "metadata": {},
   "outputs": [],
   "source": [
    "items_popularity = transactions[transactions.shop_id == winter_rev.idxmin()].groupby('item_id').size()"
   ]
  },
  {
   "cell_type": "code",
   "execution_count": 17,
   "metadata": {},
   "outputs": [
    {
     "data": {
      "text/plain": [
       "item_id\n",
       "20949    361\n",
       "13351     70\n",
       "13881     57\n",
       "11711     44\n",
       "15343     38\n",
       "dtype: int64"
      ]
     },
     "execution_count": 17,
     "metadata": {},
     "output_type": "execute_result"
    }
   ],
   "source": [
    "items_popularity.sort_values(ascending=False).head(5)"
   ]
  },
  {
   "cell_type": "code",
   "execution_count": 27,
   "metadata": {},
   "outputs": [
    {
     "name": "stdout",
     "output_type": "stream",
     "text": [
      "The most popular item is: 20949    Фирменный пакет майка 1С Интерес белый (34*42)...\n"
     ]
    }
   ],
   "source": [
    "print(\"The most popular item is: {}\".format(items[items.item_id == items_popularity.idxmax()]['item_name'].to_string()))"
   ]
  },
  {
   "cell_type": "markdown",
   "metadata": {},
   "source": [
    "# Pandas on HDFS"
   ]
  },
  {
   "cell_type": "markdown",
   "metadata": {},
   "source": [
    "Pandas may process data stored in HDFS\n",
    "\n",
    ">>> from distributed import Executor, hdfs, progress\n",
    ">>> e = Executor('127.0.0.1:8786')\n",
    ">>> e\n",
    "<Executor: scheduler=127.0.0.1:8786 workers=64 threads=64>\n",
    "\n",
    ">>> nyc2014 = hdfs.read_csv('/nyctaxi/2014/*.csv',\n",
    "...               parse_dates=['pickup_datetime', 'dropoff_datetime'],\n",
    "...               skipinitialspace=True)\n",
    "\n",
    ">>> nyc2015 = hdfs.read_csv('/nyctaxi/2015/*.csv',\n",
    "...               parse_dates=['tpep_pickup_datetime', 'tpep_dropoff_datetime'])\n",
    "\n",
    ">>> nyc2014, nyc2015 = e.persist([nyc2014, nyc2015])\n",
    ">>> progress(nyc2014, nyc2015)"
   ]
  }
 ],
 "metadata": {
  "kernelspec": {
   "display_name": "Python 3",
   "language": "python",
   "name": "python3"
  },
  "language_info": {
   "codemirror_mode": {
    "name": "ipython",
    "version": 3
   },
   "file_extension": ".py",
   "mimetype": "text/x-python",
   "name": "python",
   "nbconvert_exporter": "python",
   "pygments_lexer": "ipython3",
   "version": "3.6.3"
  }
 },
 "nbformat": 4,
 "nbformat_minor": 2
}
